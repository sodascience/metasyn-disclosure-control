{
 "cells": [
  {
   "attachments": {},
   "cell_type": "markdown",
   "id": "f5c6597b",
   "metadata": {},
   "source": [
    "# Tutorial on metasyn-disclosure\n",
    "\n",
    "In this tutorial, we will show how to use the metasyn disclosure control plugin. It uses the same procedure as the base metasyn [package](https://github.com/sodascience/metasyn/blob/main/examples/advanced_tutorial.ipynb). The output format will be the same: a GMF file will be created with the same parameter types as with the base package. One difference is that not all distributions are implemented by the disclosure plugin. The missing distributions will not be fit by default, but they can be manually set."
   ]
  },
  {
   "cell_type": "code",
   "execution_count": null,
   "id": "2442cb34",
   "metadata": {},
   "outputs": [],
   "source": [
    "# import required packages\n",
    "from collections import defaultdict\n",
    "import datetime as dt\n",
    "\n",
    "import numpy as np\n",
    "import polars as pl\n",
    "from matplotlib import pyplot as plt\n",
    "\n",
    "from metasyn import MetaFrame, demo_file\n",
    "from metasyncontrib.disclosure import DisclosurePrivacy\n",
    "from metasyn.provider import DistributionProviderList\n",
    "#from utils import get_demonstration_fp"
   ]
  },
  {
   "attachments": {},
   "cell_type": "markdown",
   "id": "04466c26",
   "metadata": {},
   "source": [
    "## Transforming your data into a polars DataFrame\n",
    "\n",
    "The first step in creating the metadata is reading and converting your dataset to a polars DataFrame. "
   ]
  },
  {
   "cell_type": "code",
   "execution_count": null,
   "id": "3c2a44b7",
   "metadata": {},
   "outputs": [],
   "source": [
    "demonstration_fp =demo_file()\n",
    "df = pl.read_csv(\n",
    "    source=demonstration_fp, \n",
    "    try_parse_dates=True,\n",
    "    dtypes={\n",
    "        \"Sex\": pl.Categorical,\n",
    "        \"Embarked\": pl.Categorical\n",
    "    }\n",
    ")\n",
    "df.head()"
   ]
  },
  {
   "attachments": {},
   "cell_type": "markdown",
   "id": "9574a4ab",
   "metadata": {},
   "source": [
    "### A full example with the base package\n",
    "\n",
    "Below we have the synthesis that uses the base metasyn package so that we can see potential problems with it. For a more detailed explanation of the base package, see our base [tutorial](https://github.com/sodascience/metasyn/blob/main/examples/advanced_tutorial.ipynb)."
   ]
  },
  {
   "cell_type": "code",
   "execution_count": null,
   "id": "b2f5eadd",
   "metadata": {},
   "outputs": [],
   "source": [
    "from metasyn.distribution import RegexDistribution, FakerDistribution\n",
    "from metasyn.distribution import DiscreteUniformDistribution\n",
    "\n",
    "cabin_distribution = RegexDistribution(r\"[ABCDEF][0-9]{2,3}\")\n",
    "var_spec = {\n",
    "    \"PassengerId\": {\"unique\": True}, \n",
    "    \"Name\":        {\"distribution\": FakerDistribution(\"name\")},\n",
    "    \"Fare\":        {\"distribution\": \"exponential\"}, # Fit an exponential distribution based on the data\n",
    "    \"Age\":         {\"distribution\": DiscreteUniformDistribution(20, 40)},\n",
    "    \"Cabin\":       {\"distribution\": cabin_distribution}\n",
    "}\n",
    "\n",
    "meta_frame = MetaFrame.fit_dataframe(df, spec=var_spec)\n",
    "print(f\"Lower bound distribution:  {meta_frame['Married since'].distribution.start}\\n\"\n",
    "      f\"Lowest value in dataframe: {df['Married since'].min()}\")\n",
    "meta_frame.synthesize(5)"
   ]
  },
  {
   "attachments": {},
   "cell_type": "markdown",
   "id": "5069e883",
   "metadata": {},
   "source": [
    "From the previous results, we can see the problem that can sometimes happen with the base package: the earliest datetime of the \"Married since\" column gets recorded in the distribution itself, and thus in the resulting GMF file."
   ]
  },
  {
   "attachments": {},
   "cell_type": "markdown",
   "id": "2897133c",
   "metadata": {},
   "source": [
    "### A full example with disclosure\n",
    "\n",
    "Below is the same example with the metasyn disclosure plugin."
   ]
  },
  {
   "cell_type": "code",
   "execution_count": null,
   "id": "b8b96c16",
   "metadata": {},
   "outputs": [],
   "source": [
    "meta_frame = MetaFrame.fit_dataframe(\n",
    "    df=df, \n",
    "    spec=var_spec,\n",
    "    dist_providers=\"metasyn-disclosure\",  # Use the metasyn-disclosure plugin\n",
    "    privacy=DisclosurePrivacy()             # Use disclosure control\n",
    ") \n",
    "print(f\"Lower bound distribution:  {meta_frame['Married since'].distribution.start}\\n\"\n",
    "      f\"Lowest value in dataframe: {df['Married since'].min()}\")\n",
    "meta_frame.synthesize(5)"
   ]
  },
  {
   "attachments": {},
   "cell_type": "markdown",
   "id": "ea8e0833",
   "metadata": {},
   "source": [
    "As you can see, the disclosure plugin fixes the privacy concern present in the base metasyn package: the lower bound of the distribution is no longer equal to the lowest value in the dataframe."
   ]
  },
  {
   "attachments": {},
   "cell_type": "markdown",
   "id": "2e3ed58d",
   "metadata": {},
   "source": [
    "## Single outliers\n",
    "\n",
    "Below we will look at what happens to our parameters if we add a single new value (outlier) to the data. We do this for both the base metasyn implementation and the disclosure control implementation. We expect that following the rules of disclosure control, a single outlier should have a smaller (and limited) effect on the results than with the base metasyn implementation."
   ]
  },
  {
   "attachments": {},
   "cell_type": "markdown",
   "id": "23584e6a",
   "metadata": {},
   "source": [
    "Define the plotting function."
   ]
  },
  {
   "cell_type": "code",
   "execution_count": null,
   "id": "6630b9a3",
   "metadata": {},
   "outputs": [],
   "source": [
    "from metasyn.distribution import MultinoulliDistribution\n",
    "\n",
    "def plot_outliers(dist_type, series_size=50):\n",
    "    dist_providers = DistributionProviderList([\"builtin\", \"metasyn-disclosure\"])\n",
    "    disc_distributions = dist_providers.get_distributions(var_type=dist_type, privacy=DisclosurePrivacy())\n",
    "    \n",
    "    for disc_class in disc_distributions:\n",
    "        if issubclass(disc_class, MultinoulliDistribution):\n",
    "            continue\n",
    "        base_class = dist_providers.find_distribution(disc_class.implements, disc_class.var_type)\n",
    "\n",
    "        dist = base_class.default_distribution()\n",
    "        series = pl.Series([dist.draw() for _ in range(series_size)])\n",
    "        clean_base_param = base_class.fit(series).to_dict()[\"parameters\"]\n",
    "        clean_disc_param = disc_class.fit(series).to_dict()[\"parameters\"]\n",
    "\n",
    "        base_param = defaultdict(lambda: [])\n",
    "        disc_param = defaultdict(lambda: [])\n",
    "        def _add(parameters, param, new_val):\n",
    "            for key, val in param.items():\n",
    "                parameters[key].append(val)\n",
    "            parameters[\"new_val\"].append(new_val)\n",
    "\n",
    "        for new_val in np.linspace(-100, 100, 51):\n",
    "            new_series = series.extend_constant(new_val, 1)\n",
    "            base_dist = base_class.fit(new_series)\n",
    "            disc_dist = disc_class.fit(new_series)\n",
    "            _add(base_param, base_dist.to_dict()[\"parameters\"], new_val)\n",
    "            _add(disc_param, disc_dist.to_dict()[\"parameters\"], new_val)\n",
    "\n",
    "        for param in base_param:\n",
    "            if param == \"new_val\":\n",
    "                continue\n",
    "            plt.plot(base_param[\"new_val\"], np.array(base_param[param])-clean_base_param[param], label=\"base\")\n",
    "            plt.plot(disc_param[\"new_val\"], np.array(disc_param[param]) - clean_disc_param[param], label=\"disclosure\")\n",
    "            plt.title(f\"{disc_class.__name__}: {param}\")\n",
    "            plt.ylabel(\"Difference between dist with and without outlier\")\n",
    "            plt.xlabel(\"Value of the outlier\")\n",
    "            plt.legend()\n",
    "            plt.show()\n"
   ]
  },
  {
   "attachments": {},
   "cell_type": "markdown",
   "id": "7a47fd46",
   "metadata": {},
   "source": [
    "### Graphs for all continuous distributions"
   ]
  },
  {
   "cell_type": "code",
   "execution_count": null,
   "id": "fd6903c2",
   "metadata": {},
   "outputs": [],
   "source": [
    "plot_outliers(\"continuous\")"
   ]
  },
  {
   "attachments": {},
   "cell_type": "markdown",
   "id": "0598b189",
   "metadata": {},
   "source": [
    "As we can see, the effect from outliers is much reduced compared to the baseline implementation. For all of the distributions, the change in the result is much smaller when an outlier is added."
   ]
  },
  {
   "attachments": {},
   "cell_type": "markdown",
   "id": "bfab3845",
   "metadata": {},
   "source": [
    "### Graphs for all discrete distributions"
   ]
  },
  {
   "cell_type": "code",
   "execution_count": null,
   "id": "fe8c4afc",
   "metadata": {},
   "outputs": [],
   "source": [
    "plot_outliers(\"discrete\")"
   ]
  },
  {
   "attachments": {},
   "cell_type": "markdown",
   "id": "d3907a50",
   "metadata": {},
   "source": [
    "The same is true for the discrete distributions, only a localized effect is present."
   ]
  }
 ],
 "metadata": {
  "kernelspec": {
   "display_name": "Python 3 (ipykernel)",
   "language": "python",
   "name": "python3"
  },
  "language_info": {
   "codemirror_mode": {
    "name": "ipython",
    "version": 3
   },
   "file_extension": ".py",
   "mimetype": "text/x-python",
   "name": "python",
   "nbconvert_exporter": "python",
   "pygments_lexer": "ipython3",
   "version": "3.11.5"
  },
  "vscode": {
   "interpreter": {
    "hash": "fdb1107d616260949a63e5f4e2c5568939cf2f2c0d0d70930ae22d4d9fd1a8a0"
   }
  }
 },
 "nbformat": 4,
 "nbformat_minor": 5
}
