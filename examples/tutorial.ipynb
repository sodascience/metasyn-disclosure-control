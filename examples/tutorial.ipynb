{
 "cells": [
  {
   "cell_type": "markdown",
   "id": "f5c6597b",
   "metadata": {},
   "source": [
    "# Tutorial on MetaSynth-disclosure\n",
    "\n",
    "In this tutorial, we will show how to use the MetaSynth disclosure control plugin. It uses the same procedure as the base MetaSynth [package](https://github.com/sodascience/metasynth/blob/main/examples/advanced_tutorial.ipynb). The output format will be the same: a GMF file will be created with the same parameter types as with the base package. One difference is that not all distributions are implemented by the disclosure plugin. The missing distributions will not be fit by default, but they can be manually set."
   ]
  },
  {
   "cell_type": "code",
   "execution_count": 1,
   "id": "2442cb34",
   "metadata": {},
   "outputs": [],
   "source": [
    "# import required packages\n",
    "from collections import defaultdict\n",
    "import datetime as dt\n",
    "\n",
    "import numpy as np\n",
    "import polars as pl\n",
    "from matplotlib import pyplot as plt\n",
    "\n",
    "from metasynth import MetaDataset\n",
    "from metasynthcontrib.disclosure import DisclosurePrivacy\n",
    "from metasynth.provider import DistributionProviderList\n",
    "from utils import get_demonstration_fp"
   ]
  },
  {
   "cell_type": "markdown",
   "id": "04466c26",
   "metadata": {},
   "source": [
    "## Transforming your data into a polars DataFrame\n",
    "\n",
    "The first step in creating the metadata is reading and converting your dataset to a polars DataFrame. "
   ]
  },
  {
   "cell_type": "code",
   "execution_count": 2,
   "id": "3c2a44b7",
   "metadata": {},
   "outputs": [
    {
     "data": {
      "text/html": [
       "<div><style>\n",
       ".dataframe > thead > tr > th,\n",
       ".dataframe > tbody > tr > td {\n",
       "  text-align: right;\n",
       "}\n",
       "</style>\n",
       "<small>shape: (5, 12)</small><table border=\"1\" class=\"dataframe\"><thead><tr><th>PassengerId</th><th>Name</th><th>Sex</th><th>Age</th><th>Parch</th><th>Fare</th><th>Cabin</th><th>Embarked</th><th>Birthday</th><th>Board time</th><th>Married since</th><th>all_NA</th></tr><tr><td>i64</td><td>str</td><td>cat</td><td>i64</td><td>i64</td><td>f64</td><td>str</td><td>cat</td><td>date</td><td>time</td><td>datetime[μs]</td><td>str</td></tr></thead><tbody><tr><td>1</td><td>&quot;Braund, Mr. Ow…</td><td>&quot;male&quot;</td><td>22</td><td>0</td><td>7.25</td><td>null</td><td>&quot;S&quot;</td><td>1937-10-28</td><td>15:53:04</td><td>2022-08-05 04:43:34</td><td>null</td></tr><tr><td>2</td><td>&quot;Cumings, Mrs. …</td><td>&quot;female&quot;</td><td>38</td><td>0</td><td>71.2833</td><td>&quot;C85&quot;</td><td>&quot;C&quot;</td><td>null</td><td>12:26:00</td><td>2022-08-07 01:56:33</td><td>null</td></tr><tr><td>3</td><td>&quot;Heikkinen, Mis…</td><td>&quot;female&quot;</td><td>26</td><td>0</td><td>7.925</td><td>null</td><td>&quot;S&quot;</td><td>1931-09-24</td><td>16:08:25</td><td>2022-08-04 20:27:37</td><td>null</td></tr><tr><td>4</td><td>&quot;Futrelle, Mrs.…</td><td>&quot;female&quot;</td><td>35</td><td>0</td><td>53.1</td><td>&quot;C123&quot;</td><td>&quot;S&quot;</td><td>1936-11-30</td><td>null</td><td>2022-08-07 07:05:55</td><td>null</td></tr><tr><td>5</td><td>&quot;Allen, Mr. Wil…</td><td>&quot;male&quot;</td><td>35</td><td>0</td><td>8.05</td><td>null</td><td>&quot;S&quot;</td><td>1918-11-07</td><td>10:59:08</td><td>2022-08-02 15:13:34</td><td>null</td></tr></tbody></table></div>"
      ],
      "text/plain": [
       "shape: (5, 12)\n",
       "┌─────────────┬───────────────┬────────┬─────┬───┬────────────┬────────────┬──────────────┬────────┐\n",
       "│ PassengerId ┆ Name          ┆ Sex    ┆ Age ┆ … ┆ Birthday   ┆ Board time ┆ Married      ┆ all_NA │\n",
       "│ ---         ┆ ---           ┆ ---    ┆ --- ┆   ┆ ---        ┆ ---        ┆ since        ┆ ---    │\n",
       "│ i64         ┆ str           ┆ cat    ┆ i64 ┆   ┆ date       ┆ time       ┆ ---          ┆ str    │\n",
       "│             ┆               ┆        ┆     ┆   ┆            ┆            ┆ datetime[μs] ┆        │\n",
       "╞═════════════╪═══════════════╪════════╪═════╪═══╪════════════╪════════════╪══════════════╪════════╡\n",
       "│ 1           ┆ Braund, Mr.   ┆ male   ┆ 22  ┆ … ┆ 1937-10-28 ┆ 15:53:04   ┆ 2022-08-05   ┆ null   │\n",
       "│             ┆ Owen Harris   ┆        ┆     ┆   ┆            ┆            ┆ 04:43:34     ┆        │\n",
       "│ 2           ┆ Cumings, Mrs. ┆ female ┆ 38  ┆ … ┆ null       ┆ 12:26:00   ┆ 2022-08-07   ┆ null   │\n",
       "│             ┆ John Bradley  ┆        ┆     ┆   ┆            ┆            ┆ 01:56:33     ┆        │\n",
       "│             ┆ (Flor…        ┆        ┆     ┆   ┆            ┆            ┆              ┆        │\n",
       "│ 3           ┆ Heikkinen,    ┆ female ┆ 26  ┆ … ┆ 1931-09-24 ┆ 16:08:25   ┆ 2022-08-04   ┆ null   │\n",
       "│             ┆ Miss. Laina   ┆        ┆     ┆   ┆            ┆            ┆ 20:27:37     ┆        │\n",
       "│ 4           ┆ Futrelle,     ┆ female ┆ 35  ┆ … ┆ 1936-11-30 ┆ null       ┆ 2022-08-07   ┆ null   │\n",
       "│             ┆ Mrs. Jacques  ┆        ┆     ┆   ┆            ┆            ┆ 07:05:55     ┆        │\n",
       "│             ┆ Heath (Li…    ┆        ┆     ┆   ┆            ┆            ┆              ┆        │\n",
       "│ 5           ┆ Allen, Mr.    ┆ male   ┆ 35  ┆ … ┆ 1918-11-07 ┆ 10:59:08   ┆ 2022-08-02   ┆ null   │\n",
       "│             ┆ William Henry ┆        ┆     ┆   ┆            ┆            ┆ 15:13:34     ┆        │\n",
       "└─────────────┴───────────────┴────────┴─────┴───┴────────────┴────────────┴──────────────┴────────┘"
      ]
     },
     "execution_count": 2,
     "metadata": {},
     "output_type": "execute_result"
    }
   ],
   "source": [
    "demonstration_fp = get_demonstration_fp()\n",
    "df = pl.read_csv(\n",
    "    demonstration_fp, try_parse_dates=True,\n",
    "    dtypes={\n",
    "        \"Sex\": pl.Categorical,\n",
    "        \"Embarked\": pl.Categorical})\n",
    "df.head()"
   ]
  },
  {
   "cell_type": "markdown",
   "id": "9574a4ab",
   "metadata": {},
   "source": [
    "### A full example with the base package\n",
    "\n",
    "Below we have the synthesis that uses the base MetaSynth package so that we can see potential problems with it. For a more detailed explanation of the base package, see our base [tutorial](https://github.com/sodascience/metasynth/blob/main/examples/advanced_tutorial.ipynb)."
   ]
  },
  {
   "cell_type": "code",
   "execution_count": 3,
   "id": "b2f5eadd",
   "metadata": {},
   "outputs": [
    {
     "name": "stdout",
     "output_type": "stream",
     "text": [
      "Lower bound distribution:  2022-07-15 12:21:15\n",
      "Lowest value in dataframe: 2022-07-15 12:21:15\n"
     ]
    },
    {
     "data": {
      "text/html": [
       "<div><style>\n",
       ".dataframe > thead > tr > th,\n",
       ".dataframe > tbody > tr > td {\n",
       "  text-align: right;\n",
       "}\n",
       "</style>\n",
       "<small>shape: (5, 12)</small><table border=\"1\" class=\"dataframe\"><thead><tr><th>PassengerId</th><th>Name</th><th>Sex</th><th>Age</th><th>Parch</th><th>Fare</th><th>Cabin</th><th>Embarked</th><th>Birthday</th><th>Board time</th><th>Married since</th><th>all_NA</th></tr><tr><td>i64</td><td>str</td><td>cat</td><td>i64</td><td>i64</td><td>f64</td><td>str</td><td>cat</td><td>date</td><td>time</td><td>datetime[μs]</td><td>f32</td></tr></thead><tbody><tr><td>1</td><td>&quot;Jacqueline Hog…</td><td>&quot;male&quot;</td><td>21</td><td>0</td><td>4.042883</td><td>null</td><td>&quot;S&quot;</td><td>1914-04-17</td><td>18:20:12</td><td>2022-07-25 11:03:09</td><td>null</td></tr><tr><td>2</td><td>&quot;Sarah Odom&quot;</td><td>&quot;female&quot;</td><td>25</td><td>1</td><td>16.361479</td><td>null</td><td>&quot;C&quot;</td><td>1938-03-12</td><td>null</td><td>2022-08-01 04:40:43</td><td>null</td></tr><tr><td>3</td><td>&quot;Samantha Lambe…</td><td>&quot;female&quot;</td><td>32</td><td>0</td><td>87.790397</td><td>&quot;D01&quot;</td><td>&quot;S&quot;</td><td>1938-08-18</td><td>15:24:14</td><td>2022-07-20 08:48:23</td><td>null</td></tr><tr><td>4</td><td>&quot;Alexander Vazq…</td><td>&quot;male&quot;</td><td>null</td><td>0</td><td>30.393727</td><td>null</td><td>&quot;C&quot;</td><td>1922-04-25</td><td>17:01:10</td><td>2022-08-05 19:33:04</td><td>null</td></tr><tr><td>5</td><td>&quot;Omar Gutierrez…</td><td>&quot;male&quot;</td><td>38</td><td>0</td><td>18.137666</td><td>null</td><td>&quot;Q&quot;</td><td>1938-01-13</td><td>17:36:01</td><td>2022-07-17 05:08:03</td><td>null</td></tr></tbody></table></div>"
      ],
      "text/plain": [
       "shape: (5, 12)\n",
       "┌─────────────┬──────────────┬────────┬──────┬───┬────────────┬────────────┬──────────────┬────────┐\n",
       "│ PassengerId ┆ Name         ┆ Sex    ┆ Age  ┆ … ┆ Birthday   ┆ Board time ┆ Married      ┆ all_NA │\n",
       "│ ---         ┆ ---          ┆ ---    ┆ ---  ┆   ┆ ---        ┆ ---        ┆ since        ┆ ---    │\n",
       "│ i64         ┆ str          ┆ cat    ┆ i64  ┆   ┆ date       ┆ time       ┆ ---          ┆ f32    │\n",
       "│             ┆              ┆        ┆      ┆   ┆            ┆            ┆ datetime[μs] ┆        │\n",
       "╞═════════════╪══════════════╪════════╪══════╪═══╪════════════╪════════════╪══════════════╪════════╡\n",
       "│ 1           ┆ Jacqueline   ┆ male   ┆ 21   ┆ … ┆ 1914-04-17 ┆ 18:20:12   ┆ 2022-07-25   ┆ null   │\n",
       "│             ┆ Hogan MD     ┆        ┆      ┆   ┆            ┆            ┆ 11:03:09     ┆        │\n",
       "│ 2           ┆ Sarah Odom   ┆ female ┆ 25   ┆ … ┆ 1938-03-12 ┆ null       ┆ 2022-08-01   ┆ null   │\n",
       "│             ┆              ┆        ┆      ┆   ┆            ┆            ┆ 04:40:43     ┆        │\n",
       "│ 3           ┆ Samantha     ┆ female ┆ 32   ┆ … ┆ 1938-08-18 ┆ 15:24:14   ┆ 2022-07-20   ┆ null   │\n",
       "│             ┆ Lambert MD   ┆        ┆      ┆   ┆            ┆            ┆ 08:48:23     ┆        │\n",
       "│ 4           ┆ Alexander    ┆ male   ┆ null ┆ … ┆ 1922-04-25 ┆ 17:01:10   ┆ 2022-08-05   ┆ null   │\n",
       "│             ┆ Vazquez      ┆        ┆      ┆   ┆            ┆            ┆ 19:33:04     ┆        │\n",
       "│ 5           ┆ Omar         ┆ male   ┆ 38   ┆ … ┆ 1938-01-13 ┆ 17:36:01   ┆ 2022-07-17   ┆ null   │\n",
       "│             ┆ Gutierrez    ┆        ┆      ┆   ┆            ┆            ┆ 05:08:03     ┆        │\n",
       "└─────────────┴──────────────┴────────┴──────┴───┴────────────┴────────────┴──────────────┴────────┘"
      ]
     },
     "execution_count": 3,
     "metadata": {},
     "output_type": "execute_result"
    }
   ],
   "source": [
    "from metasynth.distribution import RegexDistribution, FakerDistribution\n",
    "from metasynth.distribution import DiscreteUniformDistribution\n",
    "\n",
    "cabin_distribution = RegexDistribution(r\"[ABCDEF]\\d{2,3}\")\n",
    "var_spec = {\n",
    "    \"PassengerId\": {\"unique\": True}, \n",
    "    \"Name\": {\"distribution\": FakerDistribution(\"name\")},\n",
    "    \"Fare\": {\"distribution\": \"core.exponential\"},\n",
    "    \"Age\": {\"distribution\": DiscreteUniformDistribution(20, 40)},\n",
    "    \"Cabin\": {\"distribution\": cabin_distribution}\n",
    "}\n",
    "\n",
    "meta_dataset = MetaDataset.from_dataframe(df, spec=var_spec)\n",
    "print(f\"Lower bound distribution:  {meta_dataset['Married since'].distribution.start}\\n\"\n",
    "      f\"Lowest value in dataframe: {df['Married since'].min()}\")\n",
    "meta_dataset.synthesize(5)"
   ]
  },
  {
   "cell_type": "markdown",
   "id": "5069e883",
   "metadata": {},
   "source": [
    "From the previous results, we can see the problem that can sometimes happen with the base package: the earliest datetime of the \"Married since\" column gets recorded in the distribution itself, and thus in the resulting GMF file."
   ]
  },
  {
   "cell_type": "markdown",
   "id": "2897133c",
   "metadata": {},
   "source": [
    "### A full example with disclosure\n",
    "\n",
    "Below is the same example with the MetaSynth disclosure plugin."
   ]
  },
  {
   "cell_type": "code",
   "execution_count": 4,
   "id": "b8b96c16",
   "metadata": {
    "scrolled": false
   },
   "outputs": [
    {
     "name": "stdout",
     "output_type": "stream",
     "text": [
      "Lower bound distribution:  2022-07-15 17:12:24\n",
      "Lowest value in dataframe: 2022-07-15 12:21:15\n"
     ]
    },
    {
     "data": {
      "text/html": [
       "<div><style>\n",
       ".dataframe > thead > tr > th,\n",
       ".dataframe > tbody > tr > td {\n",
       "  text-align: right;\n",
       "}\n",
       "</style>\n",
       "<small>shape: (5, 12)</small><table border=\"1\" class=\"dataframe\"><thead><tr><th>PassengerId</th><th>Name</th><th>Sex</th><th>Age</th><th>Parch</th><th>Fare</th><th>Cabin</th><th>Embarked</th><th>Birthday</th><th>Board time</th><th>Married since</th><th>all_NA</th></tr><tr><td>i64</td><td>str</td><td>cat</td><td>i64</td><td>i64</td><td>f64</td><td>f32</td><td>cat</td><td>date</td><td>time</td><td>datetime[μs]</td><td>f32</td></tr></thead><tbody><tr><td>0</td><td>&quot;Jacqueline Hog…</td><td>&quot;male&quot;</td><td>24</td><td>0</td><td>9.12557</td><td>null</td><td>&quot;S&quot;</td><td>1917-12-18</td><td>null</td><td>2022-07-31 15:50:29</td><td>null</td></tr><tr><td>1</td><td>&quot;Sarah Odom&quot;</td><td>&quot;male&quot;</td><td>27</td><td>0</td><td>42.867639</td><td>null</td><td>&quot;S&quot;</td><td>1931-08-16</td><td>11:37:08</td><td>2022-07-22 20:44:08</td><td>null</td></tr><tr><td>2</td><td>&quot;Samantha Lambe…</td><td>&quot;male&quot;</td><td>21</td><td>0</td><td>18.068941</td><td>null</td><td>&quot;C&quot;</td><td>1913-10-14</td><td>12:49:55</td><td>2022-08-09 20:21:09</td><td>null</td></tr><tr><td>3</td><td>&quot;Alexander Vazq…</td><td>&quot;male&quot;</td><td>null</td><td>1</td><td>41.590209</td><td>null</td><td>&quot;C&quot;</td><td>1933-07-05</td><td>12:51:42</td><td>2022-08-02 04:55:46</td><td>null</td></tr><tr><td>4</td><td>&quot;Omar Gutierrez…</td><td>&quot;female&quot;</td><td>33</td><td>1</td><td>11.847882</td><td>null</td><td>&quot;S&quot;</td><td>1918-11-27</td><td>10:42:27</td><td>2022-08-01 13:58:11</td><td>null</td></tr></tbody></table></div>"
      ],
      "text/plain": [
       "shape: (5, 12)\n",
       "┌─────────────┬──────────────┬────────┬──────┬───┬────────────┬────────────┬──────────────┬────────┐\n",
       "│ PassengerId ┆ Name         ┆ Sex    ┆ Age  ┆ … ┆ Birthday   ┆ Board time ┆ Married      ┆ all_NA │\n",
       "│ ---         ┆ ---          ┆ ---    ┆ ---  ┆   ┆ ---        ┆ ---        ┆ since        ┆ ---    │\n",
       "│ i64         ┆ str          ┆ cat    ┆ i64  ┆   ┆ date       ┆ time       ┆ ---          ┆ f32    │\n",
       "│             ┆              ┆        ┆      ┆   ┆            ┆            ┆ datetime[μs] ┆        │\n",
       "╞═════════════╪══════════════╪════════╪══════╪═══╪════════════╪════════════╪══════════════╪════════╡\n",
       "│ 0           ┆ Jacqueline   ┆ male   ┆ 24   ┆ … ┆ 1917-12-18 ┆ null       ┆ 2022-07-31   ┆ null   │\n",
       "│             ┆ Hogan MD     ┆        ┆      ┆   ┆            ┆            ┆ 15:50:29     ┆        │\n",
       "│ 1           ┆ Sarah Odom   ┆ male   ┆ 27   ┆ … ┆ 1931-08-16 ┆ 11:37:08   ┆ 2022-07-22   ┆ null   │\n",
       "│             ┆              ┆        ┆      ┆   ┆            ┆            ┆ 20:44:08     ┆        │\n",
       "│ 2           ┆ Samantha     ┆ male   ┆ 21   ┆ … ┆ 1913-10-14 ┆ 12:49:55   ┆ 2022-08-09   ┆ null   │\n",
       "│             ┆ Lambert MD   ┆        ┆      ┆   ┆            ┆            ┆ 20:21:09     ┆        │\n",
       "│ 3           ┆ Alexander    ┆ male   ┆ null ┆ … ┆ 1933-07-05 ┆ 12:51:42   ┆ 2022-08-02   ┆ null   │\n",
       "│             ┆ Vazquez      ┆        ┆      ┆   ┆            ┆            ┆ 04:55:46     ┆        │\n",
       "│ 4           ┆ Omar         ┆ female ┆ 33   ┆ … ┆ 1918-11-27 ┆ 10:42:27   ┆ 2022-08-01   ┆ null   │\n",
       "│             ┆ Gutierrez    ┆        ┆      ┆   ┆            ┆            ┆ 13:58:11     ┆        │\n",
       "└─────────────┴──────────────┴────────┴──────┴───┴────────────┴────────────┴──────────────┴────────┘"
      ]
     },
     "execution_count": 4,
     "metadata": {},
     "output_type": "execute_result"
    }
   ],
   "source": [
    "var_spec = {\n",
    "    \"PassengerId\": {\"unique\": True},\n",
    "    # The faker distribution is available in the same way as before.\n",
    "    \"Name\": {\"distribution\": FakerDistribution(\"name\")},\n",
    "    # Fit a log-normal distribution based on the data, use the disclosure variant of the distribution\n",
    "    \"Fare\": {\"distribution\": \"core.exponential\"},\n",
    "    # Fully specify a distribution for age (uniform between 20 and 40)\n",
    "    \"Age\": {\"distribution\": DiscreteUniformDistribution(20, 40)},\n",
    "    \"Cabin\": {\"distribution\": cabin_distribution}\n",
    "}\n",
    "\n",
    "meta_dataset = MetaDataset.from_dataframe(df, spec=var_spec,\n",
    "                                          dist_providers=\"disclosure\",\n",
    "                                          privacy=DisclosurePrivacy()) # Use disclosure control\n",
    "print(f\"Lower bound distribution:  {meta_dataset['Married since'].distribution.start}\\n\"\n",
    "      f\"Lowest value in dataframe: {df['Married since'].min()}\")\n",
    "meta_dataset.synthesize(5)"
   ]
  },
  {
   "cell_type": "markdown",
   "id": "ea8e0833",
   "metadata": {},
   "source": [
    "As you can see, the disclosure plugin fixes the privacy concern present in the base MetaSynth package: the lower bound of the distribution is no longer equal to the lowest value in the dataframe."
   ]
  },
  {
   "cell_type": "markdown",
   "id": "2e3ed58d",
   "metadata": {},
   "source": [
    "## Single outliers\n",
    "\n",
    "Below we will look at what happens to our parameters if we add a single new value (outlier) to the data. We do this for both the base MetaSynth implementation and the disclosure control implementation. We expect that following the rules of disclosure control, a single outlier should have a smaller (and limited) effect on the results than with the base MetaSynth implementation."
   ]
  },
  {
   "cell_type": "markdown",
   "id": "23584e6a",
   "metadata": {},
   "source": [
    "Define the plotting function."
   ]
  },
  {
   "cell_type": "code",
   "execution_count": 6,
   "id": "6630b9a3",
   "metadata": {
    "scrolled": false
   },
   "outputs": [],
   "source": [
    "def plot_outliers(dist_type, series_size=100):\n",
    "    dist_providers = DistributionProviderList([\"builtin\", \"disclosure\"])\n",
    "    disc_distributions = dist_providers._get_dist_list(var_type=dist_type, privacy=DisclosurePrivacy())\n",
    "    \n",
    "    for disc_class in disc_distributions:\n",
    "        base_class = dist_providers._find_distribution(disc_class.implements)\n",
    "\n",
    "        dist = base_class.default_distribution()\n",
    "        series = pl.Series([dist.draw() for _ in range(series_size)])\n",
    "        clean_base_param = base_class.fit(series).to_dict()[\"parameters\"]\n",
    "        clean_disc_param = disc_class.fit(series).to_dict()[\"parameters\"]\n",
    "\n",
    "        base_param = defaultdict(lambda: [])\n",
    "        disc_param = defaultdict(lambda: [])\n",
    "        def _add(parameters, param, new_val):\n",
    "            for key, val in param.items():\n",
    "                parameters[key].append(val)\n",
    "            parameters[\"new_val\"].append(new_val)\n",
    "\n",
    "        for new_val in np.linspace(-100, 100, 101):\n",
    "            new_series = series.extend_constant(new_val, 1)\n",
    "            base_dist = base_class.fit(new_series)\n",
    "            disc_dist = disc_class.fit(new_series)\n",
    "            _add(base_param, base_dist.to_dict()[\"parameters\"], new_val)\n",
    "            _add(disc_param, disc_dist.to_dict()[\"parameters\"], new_val)\n",
    "\n",
    "        for param in base_param:\n",
    "            if param == \"new_val\":\n",
    "                continue\n",
    "            plt.plot(base_param[\"new_val\"], np.array(base_param[param])-clean_base_param[param], label=\"base\")\n",
    "            plt.plot(disc_param[\"new_val\"], np.array(disc_param[param]) - clean_disc_param[param], label=\"disclosure\")\n",
    "            plt.title(f\"{disc_class.__name__}: {param}\")\n",
    "            plt.ylabel(\"Difference between dist with and without outlier\")\n",
    "            plt.xlabel(\"Value of the outlier\")\n",
    "            plt.legend()\n",
    "            plt.show()\n"
   ]
  },
  {
   "cell_type": "markdown",
   "id": "7a47fd46",
   "metadata": {},
   "source": [
    "### Graphs for all continuous distributions"
   ]
  },
  {
   "cell_type": "code",
   "execution_count": 7,
   "id": "fd6903c2",
   "metadata": {
    "scrolled": false
   },
   "outputs": [
    {
     "data": {
      "image/png": "[encoded data removed]",
      "text/plain": [
       "<Figure size 432x288 with 1 Axes>"
      ]
     },
     "metadata": {
      "needs_background": "light"
     },
     "output_type": "display_data"
    },
    {
     "data": {
      "image/png": "[encoded data removed]",
      "text/plain": [
       "<Figure size 432x288 with 1 Axes>"
      ]
     },
     "metadata": {
      "needs_background": "light"
     },
     "output_type": "display_data"
    },
    {
     "name": "stderr",
     "output_type": "stream",
     "text": [
      "\n",
      "KeyboardInterrupt\n",
      "\n"
     ]
    }
   ],
   "source": [
    "plot_outliers(\"continuous\")"
   ]
  },
  {
   "cell_type": "markdown",
   "id": "0598b189",
   "metadata": {},
   "source": [
    "As we can see, the effect from outliers is much reduced compared to the baseline implementation. For all of the distributions, the change in the result is much smaller when an outlier is added."
   ]
  },
  {
   "cell_type": "markdown",
   "id": "bfab3845",
   "metadata": {},
   "source": [
    "### Graphs for all discrete distributions"
   ]
  },
  {
   "cell_type": "code",
   "execution_count": null,
   "id": "fe8c4afc",
   "metadata": {
    "scrolled": false
   },
   "outputs": [],
   "source": [
    "plot_outliers(\"discrete\")"
   ]
  },
  {
   "cell_type": "markdown",
   "id": "d3907a50",
   "metadata": {},
   "source": [
    "The same is true for the discrete distributions, only a localized effect is present."
   ]
  }
 ],
 "metadata": {
  "kernelspec": {
   "display_name": "Python 3 (ipykernel)",
   "language": "python",
   "name": "python3"
  },
  "language_info": {
   "codemirror_mode": {
    "name": "ipython",
    "version": 3
   },
   "file_extension": ".py",
   "mimetype": "text/x-python",
   "name": "python",
   "nbconvert_exporter": "python",
   "pygments_lexer": "ipython3",
   "version": "3.9.10"
  },
  "vscode": {
   "interpreter": {
    "hash": "fdb1107d616260949a63e5f4e2c5568939cf2f2c0d0d70930ae22d4d9fd1a8a0"
   }
  }
 },
 "nbformat": 4,
 "nbformat_minor": 5
}
